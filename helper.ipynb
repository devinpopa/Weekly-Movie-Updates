{
 "cells": [
  {
   "cell_type": "code",
   "execution_count": 38,
   "metadata": {},
   "outputs": [],
   "source": [
    "import requests\n",
    "import html5lib\n",
    "from bs4 import BeautifulSoup\n",
    "from twilio.rest import Client"
   ]
  },
  {
   "cell_type": "code",
   "execution_count": 39,
   "metadata": {},
   "outputs": [],
   "source": [
    "def convert_percentage(pct):\n",
    "    temp = pct[0:2]\n",
    "    numeric = int(temp)\n",
    "    return numeric"
   ]
  },
  {
   "cell_type": "code",
   "execution_count": 40,
   "metadata": {},
   "outputs": [],
   "source": [
    "def scrape_rt():\n",
    "    top_movies = []\n",
    "    \n",
    "    req = requests.get('https://www.rottentomatoes.com')\n",
    "    req.encoding = 'utf-8'\n",
    "    soup = BeautifulSoup(req.content, \"html.parser\")\n",
    "\n",
    "    new_movies = soup.find('table', id=\"Opening\", class_=\"movie_list\")\n",
    "    for row in new_movies.findAll('tr'):\n",
    "        l_col = row.find('td', class_='left_col')\n",
    "        m_col = row.find('td', class_='middle_col')\n",
    "        r_col = row.find('td', class_='right_col right')\n",
    "        rating = l_col.find('span', class_='tMeterScore')\n",
    "        \n",
    "        if rating is not None:\n",
    "            rating_text = rating.get_text()\n",
    "            rating_numeric = convert_percentage(rating_text)\n",
    "            title = m_col.find('a').get_text()\n",
    "            release_date = r_col.find('a').get_text().strip()\n",
    "            if rating_numeric >= 80:\n",
    "                top_movies.append((title, release_date, rating_numeric))\n",
    "        else:\n",
    "            continue\n",
    "            \n",
    "    return top_movies"
   ]
  },
  {
   "cell_type": "code",
   "execution_count": 41,
   "metadata": {},
   "outputs": [],
   "source": [
    "def send_update():\n",
    "    ACCOUNT_SID = 'ACf8e3c2663ad666d3b701781c2aad55c1'\n",
    "    AUTH_TOKEN = 'cd6426f2407b99a5ca66259ac9040615'\n",
    "    client = Client(ACCOUNT_SID, AUTH_TOKEN)\n",
    "    \n",
    "    msg = \"\"\n",
    "    found = scrape_rt()\n",
    "    for t,d,r in found:\n",
    "        msg += \"{}({}) has an average critical rating of {}/100!\\n\".format(t, d, r)\n",
    "    \n",
    "    sent = client.messages.create(\n",
    "        to='+14107829453',\n",
    "        from_='+14437762221',\n",
    "        body=msg\n",
    "    )"
   ]
  },
  {
   "cell_type": "code",
   "execution_count": 36,
   "metadata": {},
   "outputs": [
    {
     "ename": "NameError",
     "evalue": "name 'semt' is not defined",
     "output_type": "error",
     "traceback": [
      "\u001b[0;31m---------------------------------------------------------------------------\u001b[0m",
      "\u001b[0;31mNameError\u001b[0m                                 Traceback (most recent call last)",
      "\u001b[0;32m<ipython-input-36-9ae2e374e3c5>\u001b[0m in \u001b[0;36m<module>\u001b[0;34m()\u001b[0m\n\u001b[0;32m----> 1\u001b[0;31m \u001b[0msend_update\u001b[0m\u001b[0;34m(\u001b[0m\u001b[0;34m)\u001b[0m\u001b[0;34m\u001b[0m\u001b[0m\n\u001b[0m",
      "\u001b[0;32m<ipython-input-35-1483f153276a>\u001b[0m in \u001b[0;36msend_update\u001b[0;34m()\u001b[0m\n\u001b[1;32m     15\u001b[0m     )\n\u001b[1;32m     16\u001b[0m \u001b[0;34m\u001b[0m\u001b[0m\n\u001b[0;32m---> 17\u001b[0;31m     \u001b[0mprint\u001b[0m\u001b[0;34m(\u001b[0m\u001b[0msemt\u001b[0m\u001b[0;34m.\u001b[0m\u001b[0msid\u001b[0m\u001b[0;34m)\u001b[0m\u001b[0;34m\u001b[0m\u001b[0m\n\u001b[0m",
      "\u001b[0;31mNameError\u001b[0m: name 'semt' is not defined"
     ]
    }
   ],
   "source": [
    "send_update()"
   ]
  },
  {
   "cell_type": "code",
   "execution_count": null,
   "metadata": {},
   "outputs": [],
   "source": []
  }
 ],
 "metadata": {
  "kernelspec": {
   "display_name": "Python 3",
   "language": "python",
   "name": "python3"
  },
  "language_info": {
   "codemirror_mode": {
    "name": "ipython",
    "version": 3
   },
   "file_extension": ".py",
   "mimetype": "text/x-python",
   "name": "python",
   "nbconvert_exporter": "python",
   "pygments_lexer": "ipython3",
   "version": "3.6.5"
  }
 },
 "nbformat": 4,
 "nbformat_minor": 2
}
